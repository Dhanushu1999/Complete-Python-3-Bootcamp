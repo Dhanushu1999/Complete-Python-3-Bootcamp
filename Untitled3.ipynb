{
 "cells": [
  {
   "cell_type": "code",
   "execution_count": 2,
   "metadata": {},
   "outputs": [
    {
     "name": "stdout",
     "output_type": "stream",
     "text": [
      "aaaa    1    aaaaa\n",
      "aaaa   333   aaaaa\n",
      "aaaa  55555  aaaaa\n",
      "aaaa 7777777 aaaaa\n",
      "aaaa999999999aaaaa\n",
      "  HHHHH   aaaaaaaaaHHHHHaaaaaaaaaa\n",
      "  HHHHH   aaaaaaaaaHHHHHaaaaaaaaaa\n",
      "  HHHHH   aaaaaaaaaHHHHHaaaaaaaaaa\n",
      "  HHHHH   aaaaaaaaaHHHHHaaaaaaaaaa\n",
      "  HHHHH   aaaaaaaaaHHHHHaaaaaaaaaa\n"
     ]
    }
   ],
   "source": [
    "N=5\n",
    "i=1\n",
    "count=1\n",
    "width=N+4\n",
    "while(count<=N):\n",
    "    value=str(i)*i\n",
    "    print((value.center(width,' ')).center(width*2,'a'))\n",
    "    count+=1\n",
    "    i+=2\n",
    "count=0\n",
    "while(count<N):\n",
    "    value='H'*N\n",
    "    print(value.center(width,' '),value.center(width+(N*3),'a'))\n",
    "    #print(value.center(width+(N*3),'a'))\n",
    "    #print(value.rjust(width,' '))\n",
    "    count+=1\n",
    "    \n",
    "    "
   ]
  },
  {
   "cell_type": "code",
   "execution_count": 2,
   "metadata": {},
   "outputs": [
    {
     "data": {
      "text/plain": [
       "[[0, 0, 0, 0], [0, 0, 0, 0], [0, 0, 0, 0], [0, 0, 0, 0]]"
      ]
     },
     "execution_count": 2,
     "metadata": {},
     "output_type": "execute_result"
    }
   ],
   "source": [
    "arr=[[0]*4 for i in range(4)]\n",
    "arr"
   ]
  },
  {
   "cell_type": "code",
   "execution_count": 2,
   "metadata": {},
   "outputs": [
    {
     "data": {
      "text/plain": [
       "{'hello': 1, 'abd': 1, 'world': 3}"
      ]
     },
     "execution_count": 2,
     "metadata": {},
     "output_type": "execute_result"
    }
   ],
   "source": [
    "check_dict={\"hello\":1,\"world\":3,\"abd\":1}\n",
    "dict(sorted(check_dict.items(),key = lambda x:x[1]))\n",
    "\n",
    "#sorted(check_dict)"
   ]
  },
  {
   "cell_type": "code",
   "execution_count": 3,
   "metadata": {},
   "outputs": [
    {
     "data": {
      "text/plain": [
       "[('hello', 1), ('world', 3), ('abd', 1)]"
      ]
     },
     "execution_count": 3,
     "metadata": {},
     "output_type": "execute_result"
    }
   ],
   "source": [
    "list(check_dict.items())"
   ]
  },
  {
   "cell_type": "code",
   "execution_count": 20,
   "metadata": {},
   "outputs": [],
   "source": [
    "#!/usr/bin/env python3\n",
    "\n",
    "import re\n",
    "import os\n",
    "import sys\n",
    "import csv\n",
    "\n",
    "def read_error(log_line):\n",
    "        error_msg = re.search(r\"ticky: ERROR ([\\w' ]*)\",log_line)\n",
    "        if error_msg is not None:\n",
    "                return error_msg.group(1)\n",
    "        else:\n",
    "                return None\n",
    "\n",
    "def username_of_error_info(log_line):\n",
    "        if(re.search(r\"ticky:\",log_line)):\n",
    "                result= re.search(r\"ticky: ([\\w+]*):? [\\w' ]*[\\[[#0-9]*\\]?]? ?\\((.*)\\)$\",log_line)\n",
    "                #result= re.search(r\"ticky: (\\w*).*\\((.*)\\)\",log_line)\n",
    "                if result is not None:\n",
    "                        return result.groups()\n",
    "                else:\n",
    "                        return None\n",
    "\n",
    "\n",
    "def write_csv_file(header_list,info_dict,csv_file):\n",
    "        with open(csv_file,\"w\", newline='') as read_file:\n",
    "                writer = csv.writer(read_file)\n",
    "                writer.writerow(header_list)\n",
    "                for key, value in info_dict.items():\n",
    "                        if isinstance(value, list):\n",
    "                                writer.writerow([key] + value)\n",
    "                        else:\n",
    "                                writer.writerow([key, value])\n",
    "\n",
    "def error_messages_csv(file_data):\n",
    "        error_messages_header=[\"ERROR\",\"Count\"]\n",
    "        error_messages={}\n",
    "        for data_line in file_data:\n",
    "                error_msg = read_error(data_line)\n",
    "                if error_msg is not None:\n",
    "                        if error_msg.strip() in error_messages.keys():\n",
    "                                error_messages[error_msg.strip()]+=1\n",
    "                        else:\n",
    "                                error_messages[error_msg.strip()]=1\n",
    "\n",
    "        write_csv_file(error_messages_header,dict(sorted(error_messages.items(), key=lambda x: x[1], reverse=True)),\"error_message.csv\")\n",
    "\n",
    "def user_statistics_csv(file_data):\n",
    "        user_statistics_header=[\"Username\",\"INFO\",\"ERROR\"]\n",
    "        user_statistics={}\n",
    "        for data_line in file_data:\n",
    "                msg_type,usrname = username_of_error_info(data_line)\n",
    "                if (msg_type == \"ERROR\" or msg_type == \"INFO\"):\n",
    "                        if (msg_type ==\"INFO\"):\n",
    "                                if usrname.strip() in user_statistics.keys():\n",
    "                                        user_statistics[usrname.strip()][0]+=1\n",
    "                                else:\n",
    "                                        user_statistics[usrname.strip()]=[1,0]\n",
    "                        elif (msg_type ==\"ERROR\"):\n",
    "                                if usrname.strip() in user_statistics.keys():\n",
    "                                        user_statistics[usrname.strip()][1]+=1\n",
    "                                else:\n",
    "                                        user_statistics[usrname.strip()]=[0,1]\n",
    "                                \n",
    "        write_csv_file(user_statistics_header,dict(sorted(user_statistics.items())),\"user_statistics.csv\")\n",
    "\n",
    "def main():\n",
    "        with open(\"syslog.log\",\"r\") as log_file:\n",
    "                log_lines = log_file.readlines()\n",
    "                error_messages_csv(log_lines)\n",
    "                user_statistics_csv(log_lines)\n",
    "\n",
    "if __name__==\"__main__\":\n",
    "        main()\n",
    "\n"
   ]
  },
  {
   "cell_type": "code",
   "execution_count": null,
   "metadata": {},
   "outputs": [],
   "source": [
    "\n",
    "#! /usr/bin/env python3\n",
    "\n",
    "import os\n",
    "import requests\n",
    "\n",
    "input_directory =\"/data/feedback/\"\n",
    "for file in os.listdir(input_directory):\n",
    "        read_dict={}\n",
    "        with open(os.path.join(input_directory,file),\"r\") as input_file:\n",
    "                read_data=input_file.read().splitlines()\n",
    "                read_dict[\"title\"]=read_data[0]\n",
    "                read_dict[\"name\"]=read_data[1]\n",
    "                read_dict[\"date\"]=read_data[2]\n",
    "                read_dict[\"feedback\"]=read_data[3]\n",
    "        #print(read_dict)\n",
    "        response=requests.post(\"http://localhost/feedback/\",data=read_dict)\n",
    "        print(response.status_code)\n"
   ]
  },
  {
   "cell_type": "code",
   "execution_count": 2,
   "metadata": {},
   "outputs": [
    {
     "name": "stdout",
     "output_type": "stream",
     "text": [
      "10 20\n"
     ]
    }
   ],
   "source": [
    "class Base(object):\n",
    "\n",
    "\t# Constructor\n",
    "\tdef __init__(self, x):\n",
    "\t\tself.x = x\t\n",
    "\n",
    "class Derived(Base):\n",
    "\n",
    "\t# Constructor\n",
    "\tdef __init__(self, x, y):\n",
    "\t\tBase.x = x\n",
    "\t\tself.y = y\n",
    "\n",
    "\tdef printXY(self):\n",
    "\t\n",
    "\t# print(self.x, self.y) will also work\n",
    "\t    print(self.x, self.y)\n",
    "\n",
    "\n",
    "# Driver Code\n",
    "d = Derived(10, 20)\n",
    "d.printXY()"
   ]
  },
  {
   "cell_type": "code",
   "execution_count": null,
   "metadata": {},
   "outputs": [],
   "source": [
    "#!/usr/bin/env python3\n",
    "import os\n",
    "import datetime\n",
    "import reports\n",
    "import emails\n",
    "\n",
    "dt = datetime.date.today().strftime(\"%B  %d, %Y\")\n",
    "date = \"Processed Update on \" + dt\n",
    "names = []\n",
    "weights = []\n",
    "directory = \"supplier-data/descriptions/\"\n",
    "for read_file in os.listdir(directory):\n",
    "    with open(os.path.join(directory,read_file)) as file_read:\n",
    "        file_data = file_read.read().splitlines()\n",
    "        fruit_name=\"name: \"+file_data[0].strip()\n",
    "        fruit_weight=\"weight: \"+file_data[1].strip()\n",
    "        names.append(fruit_name)\n",
    "        weights.append(fruit_weight)\n",
    "\n",
    "summary = \"\"\n",
    "for name, weight in zip(names, weights):\n",
    "    summary += name + '<br />' + weight + '<br />' + '<br />'\n",
    "\n",
    "if __name__ == \"__main__\":\n",
    "    reports.generate_report(\"/tmp/processed.pdf\", date, summary)\n",
    "    sender = \"automation@example.com\"\n",
    "    receiver = \"{}@example.com\".format(os.environ.get('USER'))\n",
    "    subject = \"Upload Completed - Online Fruit Store\"\n",
    "    body = \"All fruits are uploaded to our website successfully. A detailed list is attached to this email.\"\n",
    "\n",
    "    message = emails.generate_email(sender, receiver, subject, body, \"/tmp/processed.pdf\")\n",
    "    emails.send_email(message)\n"
   ]
  }
 ],
 "metadata": {
  "kernelspec": {
   "display_name": "Python 3",
   "language": "python",
   "name": "python3"
  },
  "language_info": {
   "codemirror_mode": {
    "name": "ipython",
    "version": 3
   },
   "file_extension": ".py",
   "mimetype": "text/x-python",
   "name": "python",
   "nbconvert_exporter": "python",
   "pygments_lexer": "ipython3",
   "version": "3.11.2"
  }
 },
 "nbformat": 4,
 "nbformat_minor": 4
}
